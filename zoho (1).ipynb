{
  "nbformat": 4,
  "nbformat_minor": 0,
  "metadata": {
    "colab": {
      "provenance": []
    },
    "kernelspec": {
      "name": "python3",
      "display_name": "Python 3"
    },
    "language_info": {
      "name": "python"
    }
  },
  "cells": [
    {
      "cell_type": "code",
      "execution_count": null,
      "metadata": {
        "colab": {
          "base_uri": "https://localhost:8080/"
        },
        "id": "yzsgIUDFGTH1",
        "outputId": "7de45767-0ebb-41e5-a640-54ff2868acd2"
      },
      "outputs": [
        {
          "output_type": "stream",
          "name": "stdout",
          "text": [
            " Accuracy: 0.80\n",
            "Zoho is a good company!\n"
          ]
        }
      ],
      "source": [
        "import pandas as pd\n",
        "from sklearn.model_selection import train_test_split\n",
        "from sklearn.tree import DecisionTreeClassifier\n",
        "from sklearn.metrics import accuracy_score\n",
        "df = pd.read_csv(\"zoho_workplace_dataset.csv\")\n",
        "X = df.drop('Zoho_Good_Company', axis=1)\n",
        "y = df['Zoho_Good_Company']\n",
        "X_train, X_test, y_train, y_test = train_test_split(X, y, test_size=0.2, random_state=42)\n",
        "model = DecisionTreeClassifier(random_state=42)\n",
        "model.fit(X_train, y_train)\n",
        "y_pred = model.predict(X_test)\n",
        "accuracy = accuracy_score(y_test, y_pred)\n",
        "print(f\" Accuracy: {accuracy:.2f}\")\n",
        "if y_pred.mean() > 0.5:\n",
        "    print(\"Zoho is a good company!\")\n",
        "else:\n",
        "    print(\"Zoho is not a good company.\")\n"
      ]
    }
  ]
}